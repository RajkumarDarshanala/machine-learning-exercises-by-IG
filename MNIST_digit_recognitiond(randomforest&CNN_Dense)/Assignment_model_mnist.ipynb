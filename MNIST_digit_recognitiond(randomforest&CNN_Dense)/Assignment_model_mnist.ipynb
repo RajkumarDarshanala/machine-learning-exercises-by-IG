{
  "nbformat": 4,
  "nbformat_minor": 0,
  "metadata": {
    "colab": {
      "name": "Assignment_model (1).ipynb",
      "provenance": [],
      "collapsed_sections": []
    },
    "kernelspec": {
      "display_name": "Python 3",
      "language": "python",
      "name": "python3"
    },
    "language_info": {
      "codemirror_mode": {
        "name": "ipython",
        "version": 3
      },
      "file_extension": ".py",
      "mimetype": "text/x-python",
      "name": "python",
      "nbconvert_exporter": "python",
      "pygments_lexer": "ipython3",
      "version": "3.7.4"
    },
    "accelerator": "GPU"
  },
  "cells": [
    {
      "cell_type": "markdown",
      "metadata": {
        "colab_type": "text",
        "id": "iHagJG6Wul4Y"
      },
      "source": [
        "This assignment serves three purposes:\n",
        "\n",
        "--> Introducing you to RandomForestClassifier\n",
        "--> Trying to implement Dense CNN model using the skills you gained till now\n",
        "\n",
        "This assingemnt might not contain a line to line explaination of the task to be performed. You got to start visiting the documentations or any example online to help you out with queries like syntax and parameters.\n",
        "\n",
        "The third and the most crucial purpose of all is helping you understand how to implement different models for the same task.\n",
        "Here, we have given you the task of hand-written digit classification on MNIST dataset, first using RandomForestClassifier and second using Dense CNN and if you wish, you could also try to implement this task from the model of previous assingment with of-course a little bit of tweaking. "
      ]
    },
    {
      "cell_type": "code",
      "metadata": {
        "colab_type": "code",
        "id": "YuKiwK3Dn9Bq",
        "colab": {}
      },
      "source": [
        "import pandas as pd\n",
        "import numpy as np\n",
        "import tensorflow as tf"
      ],
      "execution_count": 0,
      "outputs": []
    },
    {
      "cell_type": "code",
      "metadata": {
        "id": "Ouq0Zg4XIzKz",
        "colab_type": "code",
        "colab": {}
      },
      "source": [
        "np.random.seed(0)"
      ],
      "execution_count": 0,
      "outputs": []
    },
    {
      "cell_type": "code",
      "metadata": {
        "colab_type": "code",
        "id": "VKLusGinn9Bv",
        "colab": {}
      },
      "source": [
        "from scipy.io import loadmat\n",
        "from six.moves import urllib\n",
        "# set path of dataset to mnist_path varaible and loadmat() it to mnist_raw\n",
        "def data_down():\n",
        "    mnist_alternative_url = \"https://github.com/amplab/datascience-sp14/raw/master/lab7/mldata/mnist-original.mat\"\n",
        "    mnist_path = \"./mnist-original.mat\"\n",
        "    response = urllib.request.urlopen(mnist_alternative_url)\n",
        "    with open(mnist_path, \"wb\") as f:\n",
        "        content = response.read()\n",
        "        f.write(content)\n",
        "    return mnist_path\n",
        "mnist_raw=loadmat(data_down())\n",
        "\n",
        "mnist ={ \"data\":mnist_raw[\"data\"].T,\"target\":mnist_raw[\"label\"][0],\n",
        "         \"COL_NAMES\":[\"label\",\"data\"],\"DESCR\": \"mldata.org dataset:mnist-original\",\n",
        "       }"
      ],
      "execution_count": 0,
      "outputs": []
    },
    {
      "cell_type": "code",
      "metadata": {
        "colab_type": "code",
        "id": "jk-UYMUzn9B1",
        "colab": {
          "base_uri": "https://localhost:8080/",
          "height": 52
        },
        "outputId": "b60fc949-8280-43e7-91e8-dcac649449d7"
      },
      "source": [
        "# store data in X and target in y\n",
        "X=mnist['data']\n",
        "\n",
        "y=mnist['target']\n",
        "\n",
        "\n",
        "#Our data is expected to has 70000 instances(rows) and 784 features(columns)\n",
        "\n",
        "print(\"Shape of X:\"+str(X.shape))\n",
        "print(\"Shape of Y:\"+str(y.shape))"
      ],
      "execution_count": 4,
      "outputs": [
        {
          "output_type": "stream",
          "text": [
            "Shape of X:(70000, 784)\n",
            "Shape of Y:(70000,)\n"
          ],
          "name": "stdout"
        }
      ]
    },
    {
      "cell_type": "code",
      "metadata": {
        "colab_type": "code",
        "id": "Ch8difi7n9B5",
        "colab": {}
      },
      "source": [
        "# import matplotlib \n",
        "import matplotlib.pyplot as plt\n"
      ],
      "execution_count": 0,
      "outputs": []
    },
    {
      "cell_type": "markdown",
      "metadata": {
        "id": "HnIyKSWBz0mN",
        "colab_type": "text"
      },
      "source": [
        "##code to get a glance by printing the image and label"
      ]
    },
    {
      "cell_type": "code",
      "metadata": {
        "colab_type": "code",
        "id": "SHTW7MPan9B9",
        "outputId": "69497d5d-09e4-4071-d25c-dec33cc11497",
        "colab": {
          "base_uri": "https://localhost:8080/",
          "height": 300
        }
      },
      "source": [
        "# pick any example from z, rehshape it to 28x28 type and display it using matplot\n",
        "i=12666\n",
        "print(\"number is \",y[i])\n",
        "plt.imshow(X[i].reshape(28,28))\n"
      ],
      "execution_count": 6,
      "outputs": [
        {
          "output_type": "stream",
          "text": [
            "number is  2.0\n"
          ],
          "name": "stdout"
        },
        {
          "output_type": "execute_result",
          "data": {
            "text/plain": [
              "<matplotlib.image.AxesImage at 0x7f02ec57c1d0>"
            ]
          },
          "metadata": {
            "tags": []
          },
          "execution_count": 6
        },
        {
          "output_type": "display_data",
          "data": {
            "image/png": "[encoded data removed]",
            "text/plain": [
              "<Figure size 432x288 with 1 Axes>"
            ]
          },
          "metadata": {
            "tags": [],
            "needs_background": "light"
          }
        }
      ]
    },
    {
      "cell_type": "code",
      "metadata": {
        "colab_type": "code",
        "id": "_rL9RDX-n9CB",
        "colab": {
          "base_uri": "https://localhost:8080/",
          "height": 35
        },
        "outputId": "bd4cda03-11e4-451c-e748-347d6be7d6b3"
      },
      "source": [
        "# To randomize out data set we have to shuffle it\n",
        "#np.random.permutation() gives us an np.array of numbers in range given range\n",
        "#  reshuffle X and y\n",
        "X_train=np.random.permutation(60000)\n",
        "X_train.shape\n",
        "X_train[0]\n"
      ],
      "execution_count": 7,
      "outputs": [
        {
          "output_type": "execute_result",
          "data": {
            "text/plain": [
              "3048"
            ]
          },
          "metadata": {
            "tags": []
          },
          "execution_count": 7
        }
      ]
    },
    {
      "cell_type": "code",
      "metadata": {
        "id": "lCHaC1G6LxQf",
        "colab_type": "code",
        "colab": {}
      },
      "source": [
        "# we are dividing the data in 60,000 and 10,000 for training and testing\n",
        "index=np.random.permutation(70000)\n",
        "X_train=X[index[:60000]]\n",
        "y_train=y[index[:60000]]\n",
        "\n",
        "X_test=X[index[60000:]]\n",
        "y_test=y[index[60000:]]"
      ],
      "execution_count": 0,
      "outputs": []
    },
    {
      "cell_type": "markdown",
      "metadata": {
        "id": "DTxEugvgziV8",
        "colab_type": "text"
      },
      "source": [
        "## code to get a glance by printing the image and label"
      ]
    },
    {
      "cell_type": "code",
      "metadata": {
        "id": "ucS8ISDlNxwa",
        "colab_type": "code",
        "colab": {
          "base_uri": "https://localhost:8080/",
          "height": 300
        },
        "outputId": "68c26cbd-9cb7-4ff3-a40e-283ea02e9fa1"
      },
      "source": [
        "i=4\n",
        "print(\"number is \",y_train[i])\n",
        "plt.imshow(X_train[i].reshape(28,28))"
      ],
      "execution_count": 9,
      "outputs": [
        {
          "output_type": "stream",
          "text": [
            "number is  5.0\n"
          ],
          "name": "stdout"
        },
        {
          "output_type": "execute_result",
          "data": {
            "text/plain": [
              "<matplotlib.image.AxesImage at 0x7f02ec050a20>"
            ]
          },
          "metadata": {
            "tags": []
          },
          "execution_count": 9
        },
        {
          "output_type": "display_data",
          "data": {
            "image/png": "[encoded data removed]",
            "text/plain": [
              "<Figure size 432x288 with 1 Axes>"
            ]
          },
          "metadata": {
            "tags": [],
            "needs_background": "light"
          }
        }
      ]
    },
    {
      "cell_type": "code",
      "metadata": {
        "id": "6YJMSzhsObpR",
        "colab_type": "code",
        "colab": {
          "base_uri": "https://localhost:8080/",
          "height": 52
        },
        "outputId": "e0d0a089-32f0-4a75-e374-66c1101fcfbc"
      },
      "source": [
        "print(X_train.shape,y_train.shape)\n",
        "print(X_test.shape,y_test.shape)"
      ],
      "execution_count": 10,
      "outputs": [
        {
          "output_type": "stream",
          "text": [
            "(60000, 784) (60000,)\n",
            "(10000, 784) (10000,)\n"
          ],
          "name": "stdout"
        }
      ]
    },
    {
      "cell_type": "code",
      "metadata": {
        "colab_type": "code",
        "id": "36J2MsdEn9CI",
        "outputId": "e8452719-d9b4-46f9-fc71-8d3becde0a6d",
        "colab": {
          "base_uri": "https://localhost:8080/",
          "height": 159
        }
      },
      "source": [
        "\n",
        "from sklearn.ensemble import RandomForestClassifier\n",
        "from sklearn.metrics import mean_absolute_error\n",
        "classifier = RandomForestClassifier(n_estimators = 10, criterion = 'entropy', random_state = 42)\n",
        "classifier.fit(X_train, y_train)\n",
        "#create a rondom forest classifier with random state of 42 and fit your train varaibles \n",
        "\n",
        "\n",
        "\n"
      ],
      "execution_count": 11,
      "outputs": [
        {
          "output_type": "execute_result",
          "data": {
            "text/plain": [
              "RandomForestClassifier(bootstrap=True, ccp_alpha=0.0, class_weight=None,\n",
              "                       criterion='entropy', max_depth=None, max_features='auto',\n",
              "                       max_leaf_nodes=None, max_samples=None,\n",
              "                       min_impurity_decrease=0.0, min_impurity_split=None,\n",
              "                       min_samples_leaf=1, min_samples_split=2,\n",
              "                       min_weight_fraction_leaf=0.0, n_estimators=10,\n",
              "                       n_jobs=None, oob_score=False, random_state=42, verbose=0,\n",
              "                       warm_start=False)"
            ]
          },
          "metadata": {
            "tags": []
          },
          "execution_count": 11
        }
      ]
    },
    {
      "cell_type": "code",
      "metadata": {
        "colab_type": "code",
        "id": "fw8rI-Bvn9CL",
        "colab": {}
      },
      "source": [
        "# predict your train X varariable and find mean_absolute error it should be around 0.00333\n",
        "# repeat the same for test X it should be around 0.205\n"
      ],
      "execution_count": 0,
      "outputs": []
    },
    {
      "cell_type": "code",
      "metadata": {
        "id": "oZwOb9odQOFo",
        "colab_type": "code",
        "colab": {}
      },
      "source": [
        "y_pred = classifier.predict(X_test)"
      ],
      "execution_count": 0,
      "outputs": []
    },
    {
      "cell_type": "code",
      "metadata": {
        "id": "VTwYuKE5QyvX",
        "colab_type": "code",
        "colab": {
          "base_uri": "https://localhost:8080/",
          "height": 52
        },
        "outputId": "63e65b9e-73f8-4739-9471-f99c80057e05"
      },
      "source": [
        "print('train_MSE = ',mean_absolute_error(y_train,classifier.predict(X_train)))\n",
        "print('test_MSE = ',mean_absolute_error(y_test,y_pred))"
      ],
      "execution_count": 13,
      "outputs": [
        {
          "output_type": "stream",
          "text": [
            "train_MSE =  0.0029\n",
            "test_MSE =  0.2005\n"
          ],
          "name": "stdout"
        }
      ]
    },
    {
      "cell_type": "code",
      "metadata": {
        "id": "s7DCr83VQVCV",
        "colab_type": "code",
        "colab": {
          "base_uri": "https://localhost:8080/",
          "height": 195
        },
        "outputId": "92f392a2-868f-48c1-9e20-8e9966f33771"
      },
      "source": [
        "from sklearn.metrics import confusion_matrix\n",
        "cm = confusion_matrix(y_test, y_pred)\n",
        "print(cm)"
      ],
      "execution_count": 14,
      "outputs": [
        {
          "output_type": "stream",
          "text": [
            "[[ 977    1    0    5    1    2    1    0    5    2]\n",
            " [   0 1106    4    2    1    1    1    4    1    0]\n",
            " [  10    5  910    5    4    7    4    8    7    2]\n",
            " [   1    5   18  987    2   16    4   13   21    4]\n",
            " [   1    2    3    1  920    1    4    0    0   27]\n",
            " [   6    1    6   31    4  845    9    0   11    6]\n",
            " [  10    2    5    0    4    8  910    2    2    0]\n",
            " [   0    9   16    3   10    2    0 1012    4    9]\n",
            " [   8    6   19   14    9   10   11    3  861   17]\n",
            " [   6    5    1   15   25    9    0    6   10  932]]\n"
          ],
          "name": "stdout"
        }
      ]
    },
    {
      "cell_type": "code",
      "metadata": {
        "colab_type": "code",
        "id": "TSq2hH6Vn9CW",
        "colab": {}
      },
      "source": [
        "# Now that RandonForest has been explored, we'll be implementing Dense CNN model"
      ],
      "execution_count": 0,
      "outputs": []
    },
    {
      "cell_type": "code",
      "metadata": {
        "colab_type": "code",
        "id": "ehWGQ6VNn9Cb",
        "colab": {}
      },
      "source": [
        "# First order of business is creating the model\n",
        "# for that purpose we've already imported the required things \n",
        "# your task is to use the above imported modules and whatever skills you have harnessed and build a model from scratch\n",
        "# JUST A REMINDER , WE TRIED TO INTRODUCE YOU ALL WITH MOST OF THE LIBRARIES WHICH WE USE ON A DAILY BASIS\n",
        "# ONE OF THEM IS KERAS USING WHICH YOU'LL IMPLEMENT THIS LAST ASSINGMENT \n",
        "# BUT DON'T WORRY THAT ITS NEW. THE CONCEPTS WHICH YOU ALL HAVE GAINED UPTIL NOW WILL ONLY BE USED \n",
        "# DON'T PANIC THAT YOU DON'T KNOW KERAS\n",
        "# JUST GIVE IT A TRY. CREATING A MODEL IS SIMILAR TO THAT IN PYTORCH.\n",
        "\n",
        "from tensorflow.keras.models import Sequential\n",
        "from tensorflow.keras.layers import Dense,Dropout,BatchNormalization\n",
        "\n",
        "# keras initializer\n"
      ],
      "execution_count": 0,
      "outputs": []
    },
    {
      "cell_type": "markdown",
      "metadata": {
        "id": "OocWkEHyz7XJ",
        "colab_type": "text"
      },
      "source": [
        "#simple dense network structure"
      ]
    },
    {
      "cell_type": "code",
      "metadata": {
        "colab_type": "code",
        "id": "r0P5nGgan9Cg",
        "colab": {}
      },
      "source": [
        "# model\n",
        "model=Sequential()\n",
        "\n",
        "model.add(Dense(units=128,activation='relu',input_shape=(784, )))\n",
        "model.add(BatchNormalization())\n",
        "model.add(Dropout(.2))\n",
        "\n",
        "model.add(Dense(units=128,activation='relu'))\n",
        "model.add(BatchNormalization())\n",
        "model.add(Dropout(.2))\n",
        "\n",
        "model.add(tf.keras.layers.Dense(units=10, activation='softmax'))"
      ],
      "execution_count": 0,
      "outputs": []
    },
    {
      "cell_type": "markdown",
      "metadata": {
        "id": "TNhJ0GKP0BZI",
        "colab_type": "text"
      },
      "source": [
        "### compile model and summary"
      ]
    },
    {
      "cell_type": "code",
      "metadata": {
        "colab_type": "code",
        "id": "6zsw6k7kn9Cj",
        "colab": {
          "base_uri": "https://localhost:8080/",
          "height": 408
        },
        "outputId": "be00d8e6-89b6-4672-a622-221435f34de7"
      },
      "source": [
        "# after creating the model compile it with proper optimizer and loss function \n",
        "# You can refer to any keras model training for your reference \n",
        "model.compile(optimizer='adam',loss='sparse_categorical_crossentropy',metrics=['sparse_categorical_accuracy'])\n",
        "\n",
        "model.summary()"
      ],
      "execution_count": 62,
      "outputs": [
        {
          "output_type": "stream",
          "text": [
            "Model: \"sequential_6\"\n",
            "_________________________________________________________________\n",
            "Layer (type)                 Output Shape              Param #   \n",
            "=================================================================\n",
            "dense_18 (Dense)             (None, 128)               100480    \n",
            "_________________________________________________________________\n",
            "batch_normalization_10 (Batc (None, 128)               512       \n",
            "_________________________________________________________________\n",
            "dropout_12 (Dropout)         (None, 128)               0         \n",
            "_________________________________________________________________\n",
            "dense_19 (Dense)             (None, 128)               16512     \n",
            "_________________________________________________________________\n",
            "batch_normalization_11 (Batc (None, 128)               512       \n",
            "_________________________________________________________________\n",
            "dropout_13 (Dropout)         (None, 128)               0         \n",
            "_________________________________________________________________\n",
            "dense_20 (Dense)             (None, 10)                1290      \n",
            "=================================================================\n",
            "Total params: 119,306\n",
            "Trainable params: 118,794\n",
            "Non-trainable params: 512\n",
            "_________________________________________________________________\n"
          ],
          "name": "stdout"
        }
      ]
    },
    {
      "cell_type": "markdown",
      "metadata": {
        "id": "6IAmuBR00GaF",
        "colab_type": "text"
      },
      "source": [
        "### fitting the model to the training data"
      ]
    },
    {
      "cell_type": "code",
      "metadata": {
        "colab_type": "code",
        "id": "ZsNYrB4En9Cm",
        "colab": {
          "base_uri": "https://localhost:8080/",
          "height": 390
        },
        "outputId": "19136707-f5d4-4b7f-e803-c2be05dd4a9d"
      },
      "source": [
        "# Fit your train datasets\n",
        "model.fit(X_train, y_train, epochs=10)"
      ],
      "execution_count": 63,
      "outputs": [
        {
          "output_type": "stream",
          "text": [
            "Epoch 1/10\n",
            "1875/1875 [==============================] - 7s 4ms/step - loss: 0.3195 - sparse_categorical_accuracy: 0.9014\n",
            "Epoch 2/10\n",
            "1875/1875 [==============================] - 6s 3ms/step - loss: 0.1769 - sparse_categorical_accuracy: 0.9456\n",
            "Epoch 3/10\n",
            "1875/1875 [==============================] - 6s 3ms/step - loss: 0.1470 - sparse_categorical_accuracy: 0.9548\n",
            "Epoch 4/10\n",
            "1875/1875 [==============================] - 6s 3ms/step - loss: 0.1293 - sparse_categorical_accuracy: 0.9596\n",
            "Epoch 5/10\n",
            "1875/1875 [==============================] - 6s 3ms/step - loss: 0.1128 - sparse_categorical_accuracy: 0.9651\n",
            "Epoch 6/10\n",
            "1875/1875 [==============================] - 6s 3ms/step - loss: 0.1053 - sparse_categorical_accuracy: 0.9658\n",
            "Epoch 7/10\n",
            "1875/1875 [==============================] - 6s 3ms/step - loss: 0.0959 - sparse_categorical_accuracy: 0.9698\n",
            "Epoch 8/10\n",
            "1875/1875 [==============================] - 6s 3ms/step - loss: 0.0890 - sparse_categorical_accuracy: 0.9721\n",
            "Epoch 9/10\n",
            "1875/1875 [==============================] - 6s 3ms/step - loss: 0.0828 - sparse_categorical_accuracy: 0.9736\n",
            "Epoch 10/10\n",
            "1875/1875 [==============================] - 6s 3ms/step - loss: 0.0783 - sparse_categorical_accuracy: 0.9748\n"
          ],
          "name": "stdout"
        },
        {
          "output_type": "execute_result",
          "data": {
            "text/plain": [
              "<tensorflow.python.keras.callbacks.History at 0x7f02833fa470>"
            ]
          },
          "metadata": {
            "tags": []
          },
          "execution_count": 63
        }
      ]
    },
    {
      "cell_type": "markdown",
      "metadata": {
        "id": "wITuUaWI0Nmg",
        "colab_type": "text"
      },
      "source": [
        "###calculating test set test set accuracy and loss"
      ]
    },
    {
      "cell_type": "code",
      "metadata": {
        "colab_type": "code",
        "id": "3iZnY1S8n9Cq",
        "colab": {
          "base_uri": "https://localhost:8080/",
          "height": 35
        },
        "outputId": "818ec1a5-b9f9-4db7-eab5-52b082b2ca20"
      },
      "source": [
        "# After fitting try your model with test dataset\n",
        "# see the accuracy\n",
        "test_loss, test_accuracy = model.evaluate(X_test, y_test)"
      ],
      "execution_count": 64,
      "outputs": [
        {
          "output_type": "stream",
          "text": [
            "313/313 [==============================] - 1s 3ms/step - loss: 0.0867 - sparse_categorical_accuracy: 0.9778\n"
          ],
          "name": "stdout"
        }
      ]
    },
    {
      "cell_type": "code",
      "metadata": {
        "id": "vZrU8_evXEXk",
        "colab_type": "code",
        "colab": {
          "base_uri": "https://localhost:8080/",
          "height": 35
        },
        "outputId": "4e7b6f55-ca66-4e2b-80f7-45bf644a1356"
      },
      "source": [
        "print(\"Test accuracy: {}\".format(test_accuracy))"
      ],
      "execution_count": 65,
      "outputs": [
        {
          "output_type": "stream",
          "text": [
            "Test accuracy: 0.9778000116348267\n"
          ],
          "name": "stdout"
        }
      ]
    },
    {
      "cell_type": "code",
      "metadata": {
        "id": "Dq5t-xmlYUT3",
        "colab_type": "code",
        "colab": {
          "base_uri": "https://localhost:8080/",
          "height": 52
        },
        "outputId": "cf612c30-2b7c-4d7b-9cf0-413be653b7f8"
      },
      "source": [
        "y_pred2=model.predict(X_test)\n",
        "def matrix_to_pred_vector(pred):\n",
        "  prediction=[]\n",
        "  for row in pred:\n",
        "    prediction.append(np.where(row==max(row))[0])\n",
        "  return np.array(prediction).reshape(pred.shape[0],)\n",
        "y_pred2=matrix_to_pred_vector(y_pred2)\n",
        "print('train_MSE_nn = ',mean_absolute_error(y_train,matrix_to_pred_vector(model.predict(X_train))))\n",
        "print('test_MSE_nn = ',mean_absolute_error(y_test,y_pred2))"
      ],
      "execution_count": 66,
      "outputs": [
        {
          "output_type": "stream",
          "text": [
            "train_MSE_nn =  0.03191666666666667\n",
            "test_MSE_nn =  0.0817\n"
          ],
          "name": "stdout"
        }
      ]
    },
    {
      "cell_type": "markdown",
      "metadata": {
        "id": "s22EUuX0oSKJ",
        "colab_type": "text"
      },
      "source": [
        "###confusion matrix for random forest predictions"
      ]
    },
    {
      "cell_type": "code",
      "metadata": {
        "id": "A_-3okQadX6T",
        "colab_type": "code",
        "colab": {
          "base_uri": "https://localhost:8080/",
          "height": 195
        },
        "outputId": "6db288bd-d16e-428d-8179-6faba52d2501"
      },
      "source": [
        "cm1 = confusion_matrix(y_test, y_pred)\n",
        "print(cm1)"
      ],
      "execution_count": 67,
      "outputs": [
        {
          "output_type": "stream",
          "text": [
            "[[ 977    1    0    5    1    2    1    0    5    2]\n",
            " [   0 1106    4    2    1    1    1    4    1    0]\n",
            " [  10    5  910    5    4    7    4    8    7    2]\n",
            " [   1    5   18  987    2   16    4   13   21    4]\n",
            " [   1    2    3    1  920    1    4    0    0   27]\n",
            " [   6    1    6   31    4  845    9    0   11    6]\n",
            " [  10    2    5    0    4    8  910    2    2    0]\n",
            " [   0    9   16    3   10    2    0 1012    4    9]\n",
            " [   8    6   19   14    9   10   11    3  861   17]\n",
            " [   6    5    1   15   25    9    0    6   10  932]]\n"
          ],
          "name": "stdout"
        }
      ]
    },
    {
      "cell_type": "markdown",
      "metadata": {
        "id": "h-7RxYeWoc7Z",
        "colab_type": "text"
      },
      "source": [
        "###confusion matrix for neural network predictions"
      ]
    },
    {
      "cell_type": "code",
      "metadata": {
        "id": "TIuwxVoPdUEc",
        "colab_type": "code",
        "colab": {
          "base_uri": "https://localhost:8080/",
          "height": 195
        },
        "outputId": "c3578f90-21e4-4854-b24a-1c8ddf3ac221"
      },
      "source": [
        "cm2 = confusion_matrix(y_test, y_pred2)\n",
        "print(cm2)"
      ],
      "execution_count": 68,
      "outputs": [
        {
          "output_type": "stream",
          "text": [
            "[[ 977    0    1    1    0    0    8    0    7    0]\n",
            " [   1 1110    1    1    1    0    0    4    1    1]\n",
            " [   3    2  944    4    1    0    0    3    5    0]\n",
            " [   0    3   10 1016    0   17    1    7   15    2]\n",
            " [   2    1    2    2  940    0    4    1    1    6]\n",
            " [   2    0    1    3    1  899    4    1    6    2]\n",
            " [   2    1    0    0    2    1  936    0    1    0]\n",
            " [   0    4    8    2    2    0    0 1046    2    1]\n",
            " [   3    1    3    1    2    1    7    0  935    5]\n",
            " [   1    3    0    2    7    7    1    7    6  975]]\n"
          ],
          "name": "stdout"
        }
      ]
    },
    {
      "cell_type": "code",
      "metadata": {
        "id": "l5SGxuLynRX4",
        "colab_type": "code",
        "colab": {
          "base_uri": "https://localhost:8080/",
          "height": 70
        },
        "outputId": "3ca82f01-5426-48a9-aa95-ba00d4a6ca12"
      },
      "source": [
        "print(\"*************************test set predictions***************\")\n",
        "sum1=0\n",
        "for i in cm1:\n",
        "  sum1+=max(i)\n",
        "\n",
        "print(\"number of corect preditcion using random forest = \",sum1)\n",
        "\n",
        "sum2=0\n",
        "for i in cm2:\n",
        "  sum2+=max(i)\n",
        "\n",
        "print(\"number of corect preditcion using neural network model = \",sum2)"
      ],
      "execution_count": 70,
      "outputs": [
        {
          "output_type": "stream",
          "text": [
            "*************************test set predictions***************\n",
            "number of corect preditcion using random forest =  9460\n",
            "number of corect preditcion using neural network model =  9778\n"
          ],
          "name": "stdout"
        }
      ]
    },
    {
      "cell_type": "code",
      "metadata": {
        "colab_type": "code",
        "id": "Src3IB64n9C0",
        "colab": {}
      },
      "source": [
        "# Understand how and where to use which model and jot down your observations in a text file in the github repository."
      ],
      "execution_count": 0,
      "outputs": []
    },
    {
      "cell_type": "markdown",
      "metadata": {
        "id": "Z6BF7HjcyJ_0",
        "colab_type": "text"
      },
      "source": [
        "#summary"
      ]
    },
    {
      "cell_type": "code",
      "metadata": {
        "id": "J8JowrlfyWAq",
        "colab_type": "code",
        "colab": {
          "base_uri": "https://localhost:8080/",
          "height": 195
        },
        "outputId": "a17d00c3-87d6-4a9d-96d8-48de0d308a54"
      },
      "source": [
        "print('Random forest')\n",
        "print('train_MSE = ',mean_absolute_error(y_train,classifier.predict(X_train)))\n",
        "print('test_MSE = ',mean_absolute_error(y_test,y_pred))\n",
        "print(\"number of corect test set preditcion using random forest = \",sum1)\n",
        "print('======================================================================================================================================')\n",
        "print('======================================================================================================================================')\n",
        "print('CNN Dense model')\n",
        "print('train_MSE_nn = ',mean_absolute_error(y_train,matrix_to_pred_vector(model.predict(X_train))))\n",
        "print('test_MSE_nn = ',mean_absolute_error(y_test,y_pred2))\n",
        "print(\"number of corect test set preditcion using neural network model = \",sum2)"
      ],
      "execution_count": 74,
      "outputs": [
        {
          "output_type": "stream",
          "text": [
            "Random forest\n",
            "train_MSE =  0.0029\n",
            "test_MSE =  0.2005\n",
            "number of corect test set preditcion using random forest =  9460\n",
            "======================================================================================================================================\n",
            "======================================================================================================================================\n",
            "CNN Dense model\n",
            "train_MSE_nn =  0.03191666666666667\n",
            "test_MSE_nn =  0.0817\n",
            "number of corect test set preditcion using neural network model =  9778\n"
          ],
          "name": "stdout"
        }
      ]
    }
  ]
}