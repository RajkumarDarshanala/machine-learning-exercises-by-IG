{
  "nbformat": 4,
  "nbformat_minor": 0,
  "metadata": {
    "colab": {
      "name": "Copy of week1assignment.ipynb",
      "provenance": []
    },
    "kernelspec": {
      "name": "python3",
      "display_name": "Python 3"
    }
  },
  "cells": [
    {
      "cell_type": "code",
      "metadata": {
        "id": "F-6bE0dYcBgA",
        "colab_type": "code",
        "colab": {}
      },
      "source": [
        "## Import stuff\n",
        " \n",
        "import numpy as np\n",
        "from sklearn import datasets, linear_model, metrics"
      ],
      "execution_count": 0,
      "outputs": []
    },
    {
      "cell_type": "code",
      "metadata": {
        "id": "gK71NIhMcEs5",
        "colab_type": "code",
        "colab": {}
      },
      "source": [
        "## Load the diabetes dataset\n",
        "diabetes = datasets.load_diabetes()\n",
        "diabetes_X = diabetes.data # matrix of dimensions 442x10\n",
        " \n",
        "# Split the data into training/testing sets\n",
        "diabetes_X_train = diabetes_X[:-20]\n",
        "diabetes_X_test = diabetes_X[-20:]\n",
        " \n",
        "# Split the targets into training/testing sets\n",
        "diabetes_y_train = diabetes.target[:-20]\n",
        "diabetes_y_test = diabetes.target[-20:]"
      ],
      "execution_count": 0,
      "outputs": []
    },
    {
      "cell_type": "code",
      "metadata": {
        "id": "XJTg22ybcHsl",
        "colab_type": "code",
        "outputId": "3df88843-0557-4a4b-dd53-7af870298fb4",
        "colab": {
          "base_uri": "https://localhost:8080/",
          "height": 330
        }
      },
      "source": [
        "# train\n",
        "X = diabetes_X_train\n",
        "y = diabetes_y_train\n",
        "\n",
        "# train: init\n",
        "W = np.zeros(X.shape[1])\n",
        "b = 0\n",
        "\n",
        "\n",
        "learning_rate = 1.9\n",
        "epochs = 10000\n",
        "m=len(y)\n",
        "cost_details=np.zeros(epochs)\n",
        "# train: gradient descent\n",
        "for i in range(epochs):\n",
        "    # calculate predictions\n",
        "    h= X.dot(W)+b\n",
        " \n",
        "    # calculate error and cost (mean squared error)\n",
        "    error = h - y\n",
        "    cost = np.sum((X.dot(W)+b - y) ** 2)/(2 * m)\n",
        "    cost_details[i] = cost\n",
        "    # calculate gradients\n",
        "    gradient = X.T.dot(error) / m\n",
        " \n",
        "    # update parameters\n",
        "    W = W - learning_rate * gradient\n",
        "    b-=learning_rate*sum(error)/m\n",
        "    # diagnostic output\n",
        "    if i % 5000 == 0: print(\"Epoch %d: %f\" % (i, cost))\n",
        "\n",
        "import matplotlib.pyplot as plt\n",
        "plt.plot(cost_details)\n",
        "plt.xlabel('epochs')\n",
        "plt.ylabel('mean_squared_error')"
      ],
      "execution_count": 3,
      "outputs": [
        {
          "output_type": "stream",
          "text": [
            "Epoch 0: 14734.323460\n",
            "Epoch 5000: 1459.008643\n"
          ],
          "name": "stdout"
        },
        {
          "output_type": "execute_result",
          "data": {
            "text/plain": [
              "Text(0, 0.5, 'mean_squared_error')"
            ]
          },
          "metadata": {
            "tags": []
          },
          "execution_count": 3
        },
        {
          "output_type": "display_data",
          "data": {
            "image/png": "[encoded data removed]",
            "text/plain": [
              "<Figure size 432x288 with 1 Axes>"
            ]
          },
          "metadata": {
            "tags": [],
            "needs_background": "light"
          }
        }
      ]
    },
    {
      "cell_type": "code",
      "metadata": {
        "id": "uvSdTn-0cKJL",
        "colab_type": "code",
        "outputId": "1556dbe4-889a-4a9d-e846-8e5be40d740b",
        "colab": {
          "base_uri": "https://localhost:8080/",
          "height": 101
        }
      },
      "source": [
        "# test\n",
        "X = diabetes_X_test\n",
        "y = diabetes_y_test\n",
        " \n",
        "# calculate predictions + calculate error and cost (same code as above)\n",
        "y_pred=X.dot(W)+b\n",
        "test_error=y-y_pred\n",
        "mean_squared_error=sum(test_error**2)/(2*len(y))\n",
        "print('Coefficients: \\n', W)\n",
        "print(\"Mean squared error: %.2f\" % mean_squared_error)\n",
        "print(\"=\"*120)"
      ],
      "execution_count": 6,
      "outputs": [
        {
          "output_type": "stream",
          "text": [
            "Coefficients: \n",
            " [   3.05034545 -235.13375878  517.66234833  325.73821223 -280.33670212\n",
            "   69.84089726 -137.55731589  114.4953189   543.69524352   78.6275599 ]\n",
            "Mean squared error: 997.27\n",
            "========================================================================================================================\n"
          ],
          "name": "stdout"
        }
      ]
    }
  ]
}