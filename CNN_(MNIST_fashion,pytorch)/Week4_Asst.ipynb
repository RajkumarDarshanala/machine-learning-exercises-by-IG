{
  "nbformat": 4,
  "nbformat_minor": 0,
  "metadata": {
    "kernelspec": {
      "display_name": "Python 3",
      "language": "python",
      "name": "python3"
    },
    "language_info": {
      "codemirror_mode": {
        "name": "ipython",
        "version": 3
      },
      "file_extension": ".py",
      "mimetype": "text/x-python",
      "name": "python",
      "nbconvert_exporter": "python",
      "pygments_lexer": "ipython3",
      "version": "3.8.2"
    },
    "colab": {
      "name": "Week4_Asst.ipynb",
      "provenance": [],
      "collapsed_sections": []
    },
    "accelerator": "GPU"
  },
  "cells": [
    {
      "cell_type": "code",
      "metadata": {
        "id": "FANSM1s23Tu-",
        "colab_type": "code",
        "colab": {}
      },
      "source": [
        "# import Numpy and Pandas\n",
        "import numpy as np\n",
        "import pandas as pd\n",
        "# for reading and displaying images, import imread and matplotlib\n",
        "from imageio import imread\n",
        "import matplotlib.pyplot as plt\n",
        "\n",
        "# for creating validation set, import train_test_split; understand how the function works\n",
        "from sklearn.model_selection import train_test_split\n",
        "# for evaluating the model, import accuracy_score from sklearn\n",
        "from sklearn.metrics import accuracy_score\n",
        "# Import necessary PyTorch libraries and modules\n",
        "import torch\n",
        "import torch.nn as nn\n",
        "import torch.nn.functional as F\n",
        "import torch.optim as optim\n",
        "\n",
        "import torchvision\n",
        "import torchvision.transforms as transforms\n",
        "\n",
        "# Import dataset from pytorch vision - Fashion MNIST\n",
        "train_set = torchvision.datasets.FashionMNIST( root = './data/FashionMNIST',\n",
        "    train = True,\n",
        "    download = True,\n",
        "    transform = transforms.Compose([\n",
        "        transforms.ToTensor()  ]\n",
        "    )\n",
        ") "
      ],
      "execution_count": 0,
      "outputs": []
    },
    {
      "cell_type": "code",
      "metadata": {
        "id": "1gVmIMz53TvS",
        "colab_type": "code",
        "colab": {
          "base_uri": "https://localhost:8080/",
          "height": 281
        },
        "outputId": "d62cfd9f-87d3-44a9-eb21-112193879277"
      },
      "source": [
        "print(plt.imshow(torch.utils.data.DataLoader(train_set).dataset.data[0]))"
      ],
      "execution_count": 85,
      "outputs": [
        {
          "output_type": "stream",
          "text": [
            "AxesImage(54,36;334.8x217.44)\n"
          ],
          "name": "stdout"
        },
        {
          "output_type": "display_data",
          "data": {
            "image/png": "[encoded data removed]",
            "text/plain": [
              "<Figure size 432x288 with 1 Axes>"
            ]
          },
          "metadata": {
            "tags": [],
            "needs_background": "light"
          }
        }
      ]
    },
    {
      "cell_type": "code",
      "metadata": {
        "id": "POFxU60O3Tvf",
        "colab_type": "code",
        "colab": {}
      },
      "source": [
        "# Visualise some random images from the datset. Check the shape of tensors to get a better understanding of the dataset."
      ],
      "execution_count": 0,
      "outputs": []
    },
    {
      "cell_type": "code",
      "metadata": {
        "id": "amFBjAVP3Tvu",
        "colab_type": "code",
        "colab": {}
      },
      "source": [
        "# Define the network architecture(model) using a class.\n",
        "# Use conv2d layers, activation function after each such layer, use Batchnorm and Maxpooling. Play with these parameters,\n",
        "# layers and things like kernel size, stride etc and see how it affects your results.\n",
        "# Finally use a linear layer in the end\n",
        "# Define the forward pass\n",
        "class Network(nn.Module):\n",
        "  def __init__(self):\n",
        "    super().__init__()\n",
        "    self.conv1 = nn.Conv2d(in_channels=1, out_channels=6, kernel_size=5)\n",
        "    self.conv2 = nn.Conv2d(in_channels=6, out_channels=12, kernel_size=5)\n",
        "\n",
        "    self.fc1 = nn.Linear(in_features=12*4*4, out_features=120)\n",
        "    self.fc2 = nn.Linear(in_features=120, out_features=60)\n",
        "    self.out = nn.Linear(in_features=60, out_features=10)\n",
        "\n",
        "  def forward(self, t):\n",
        "    t = self.conv1(t)\n",
        "    t = F.relu(t)\n",
        "    t = F.max_pool2d(t, kernel_size=2, stride=2)\n",
        "    t = self.conv2(t)\n",
        "    t = F.relu(t)\n",
        "    t = F.max_pool2d(t, kernel_size=2, stride=2)\n",
        "    t = t.reshape(-1, 12*4*4)\n",
        "    t = self.fc1(t)\n",
        "    t = F.relu(t)\n",
        "    t = self.fc2(t)\n",
        "    t = F.relu(t)\n",
        "    t = self.out(t)\n",
        "    return t\n"
      ],
      "execution_count": 0,
      "outputs": []
    },
    {
      "cell_type": "code",
      "metadata": {
        "id": "nQJ_qBc9lPFC",
        "colab_type": "code",
        "colab": {}
      },
      "source": [
        "from collections  import OrderedDict\n",
        "from collections import namedtuple\n",
        "from itertools import product"
      ],
      "execution_count": 0,
      "outputs": []
    },
    {
      "cell_type": "code",
      "metadata": {
        "id": "pbgglXwX3Tv4",
        "colab_type": "code",
        "colab": {
          "base_uri": "https://localhost:8080/",
          "height": 686
        },
        "outputId": "0770cdbd-0748-43b3-f606-c34d26c0fa9a"
      },
      "source": [
        "# Define training the model\n",
        "    # defining the optimizer\n",
        "    # defining the loss function\n",
        "    # For each epoch and in each batch:\n",
        "        # clear the gradients\n",
        "        # compute the model output\n",
        "        # calculate loss; store and print them if you wish to print and see if the loss is decreasing.\n",
        "        # propagate loss backwards\n",
        "        # update model weights\n",
        "params = OrderedDict(\n",
        "    lr = [.01, .001],\n",
        "    batch_size = [100, 1000],\n",
        "    shuffle = [False]\n",
        ")\n",
        "Run = namedtuple('Run', params.keys())\n",
        "epochs = 5\n",
        "runs = []\n",
        "for v in product(*params.values()):\n",
        "  runs.append(Run(*v))\n",
        "\n",
        "\n",
        "# get all runs from params using RunBuilder class\n",
        "loss_epoch=0\n",
        "i=0\n",
        "for run in runs:\n",
        "    network = Network()\n",
        "    # load dataset and use dataloader to send the data in batches.\n",
        "    # Convert data to tensor and normalise it.\n",
        "    loader = torch.utils.data.DataLoader(train_set, batch_size = run.batch_size)\n",
        "    optimizer = optim.Adam(network.parameters(), lr=run.lr)\n",
        "    for epoch in range(epochs):\n",
        "      i=0\n",
        "      loss_epoch=0\n",
        "      for batch in loader:\n",
        "        images = batch[0]\n",
        "        labels = batch[1]\n",
        "        preds = network(images)\n",
        "        loss = F.cross_entropy(preds, labels)\n",
        "        i+=1\n",
        "        # print(i,loss)\n",
        "        loss_epoch+=loss*batch[0].shape[0]\n",
        "        optimizer.zero_grad()\n",
        "        loss.backward()\n",
        "        optimizer.step()\n",
        "      print(\"===============================================================================================\")\n",
        "      print(epoch,loss_epoch/60000)\n"
      ],
      "execution_count": 34,
      "outputs": [
        {
          "output_type": "stream",
          "text": [
            "===============================================================================================\n",
            "0 tensor(0.5399, grad_fn=<DivBackward0>)\n",
            "===============================================================================================\n",
            "1 tensor(0.3705, grad_fn=<DivBackward0>)\n",
            "===============================================================================================\n",
            "2 tensor(0.3426, grad_fn=<DivBackward0>)\n",
            "===============================================================================================\n",
            "3 tensor(0.3273, grad_fn=<DivBackward0>)\n",
            "===============================================================================================\n",
            "4 tensor(0.3174, grad_fn=<DivBackward0>)\n",
            "===============================================================================================\n",
            "0 tensor(1.0740, grad_fn=<DivBackward0>)\n",
            "===============================================================================================\n",
            "1 tensor(0.5408, grad_fn=<DivBackward0>)\n",
            "===============================================================================================\n",
            "2 tensor(0.4421, grad_fn=<DivBackward0>)\n",
            "===============================================================================================\n",
            "3 tensor(0.3830, grad_fn=<DivBackward0>)\n",
            "===============================================================================================\n",
            "4 tensor(0.3557, grad_fn=<DivBackward0>)\n",
            "===============================================================================================\n",
            "0 tensor(0.7958, grad_fn=<DivBackward0>)\n",
            "===============================================================================================\n",
            "1 tensor(0.5152, grad_fn=<DivBackward0>)\n",
            "===============================================================================================\n",
            "2 tensor(0.4492, grad_fn=<DivBackward0>)\n",
            "===============================================================================================\n",
            "3 tensor(0.4086, grad_fn=<DivBackward0>)\n",
            "===============================================================================================\n",
            "4 tensor(0.3785, grad_fn=<DivBackward0>)\n",
            "===============================================================================================\n",
            "0 tensor(1.5496, grad_fn=<DivBackward0>)\n",
            "===============================================================================================\n",
            "1 tensor(0.7882, grad_fn=<DivBackward0>)\n",
            "===============================================================================================\n",
            "2 tensor(0.6905, grad_fn=<DivBackward0>)\n",
            "===============================================================================================\n",
            "3 tensor(0.6361, grad_fn=<DivBackward0>)\n",
            "===============================================================================================\n",
            "4 tensor(0.5959, grad_fn=<DivBackward0>)\n"
          ],
          "name": "stdout"
        }
      ]
    },
    {
      "cell_type": "code",
      "metadata": {
        "id": "LLYGbUXz3TwE",
        "colab_type": "code",
        "colab": {}
      },
      "source": [
        "\n",
        "# Evaluate model on test set. This is done in the same way as for training but only till calculating output.\n",
        "# Then,convert output from tensor to numpy format.\n",
        "# convert to class labels\n",
        "# store the predictions\n",
        "# calculate accuracy of model\n",
        "# Try to improve accuracy by changing parameters, optimizer, loss functions, epochs etc\n",
        "# and explain your observations in a text file in the Github repository."
      ],
      "execution_count": 0,
      "outputs": []
    },
    {
      "cell_type": "code",
      "metadata": {
        "id": "2KjtEIKDq88f",
        "colab_type": "code",
        "colab": {}
      },
      "source": [
        "test_set = torchvision.datasets.FashionMNIST( root = './data/FashionMNIST',\n",
        "    train = False,\n",
        "    download = True,\n",
        "    transform = transforms.Compose([\n",
        "        transforms.ToTensor()  ]\n",
        "    )\n",
        ")"
      ],
      "execution_count": 0,
      "outputs": []
    },
    {
      "cell_type": "code",
      "metadata": {
        "id": "2YqYyqVKwPRF",
        "colab_type": "code",
        "colab": {}
      },
      "source": [
        "def get_all_preds(model, loader):\n",
        "  print(\"ok\")\n",
        "  labels=[]\n",
        "  images =[]\n",
        "  all_preds = torch.tensor([])\n",
        "  for batch in loader:\n",
        "    images, labels = batch\n",
        "    print(\"a\")\n",
        "    preds = model(images)\n",
        "    all_preds = torch.cat(\n",
        "        (all_preds, preds),\n",
        "        dim = 0\n",
        "    )\n",
        "  return all_preds,labels,images\n"
      ],
      "execution_count": 0,
      "outputs": []
    },
    {
      "cell_type": "code",
      "metadata": {
        "id": "9qaBByZvwRse",
        "colab_type": "code",
        "colab": {
          "base_uri": "https://localhost:8080/",
          "height": 50
        },
        "outputId": "033e7c1f-2598-4800-dcdf-687a299c79b9"
      },
      "source": [
        "prediction_loader = torch.utils.data.DataLoader(test_set, batch_size=10000)\n",
        "test_preds,labels,images= get_all_preds(network, prediction_loader)\n"
      ],
      "execution_count": 91,
      "outputs": [
        {
          "output_type": "stream",
          "text": [
            "ok\n",
            "a\n"
          ],
          "name": "stdout"
        }
      ]
    },
    {
      "cell_type": "code",
      "metadata": {
        "id": "XmGBIFrEwhR4",
        "colab_type": "code",
        "colab": {
          "base_uri": "https://localhost:8080/",
          "height": 50
        },
        "outputId": "df4adabf-ff11-4068-9e10-d622179e4e6b"
      },
      "source": [
        "test_result=test_preds.detach().numpy().argmax(axis=1)\n",
        "labels = labels.detach().numpy()\n",
        "\n",
        "print(labels.shape)\n",
        "print(test_result.shape)"
      ],
      "execution_count": 86,
      "outputs": [
        {
          "output_type": "stream",
          "text": [
            "(10000,)\n",
            "(10000,)\n"
          ],
          "name": "stdout"
        }
      ]
    },
    {
      "cell_type": "code",
      "metadata": {
        "id": "2KFA1nXJrStI",
        "colab_type": "code",
        "colab": {
          "base_uri": "https://localhost:8080/",
          "height": 33
        },
        "outputId": "2eb177a5-6acd-462c-e660-2efefc69f62a"
      },
      "source": [
        "count=0\n",
        "for i in range(0,len(labels)):\n",
        "  if labels[i]!=test_result[i]:\n",
        "    count+=1\n",
        "print(\"accuracy = \",100-count/100)"
      ],
      "execution_count": 68,
      "outputs": [
        {
          "output_type": "stream",
          "text": [
            "accuracy =  78.11\n"
          ],
          "name": "stdout"
        }
      ]
    },
    {
      "cell_type": "markdown",
      "metadata": {
        "id": "nt5fqy6k3TwT",
        "colab_type": "text"
      },
      "source": [
        "  \n",
        "  Try to improve accuracy by changing parameters, optimizer, loss functions, epochs etc\n",
        "  and explain your observations in a text file in the Github repository.\n",
        "  "
      ]
    },
    {
      "cell_type": "code",
      "metadata": {
        "id": "CruMicja5LTJ",
        "colab_type": "code",
        "colab": {}
      },
      "source": [
        "label_names = ['T-shirt/top','Trouser','Pullover','Dress','Coat','Sandal','Shirt','Sneaker','Bag','Ankle boot']"
      ],
      "execution_count": 0,
      "outputs": []
    },
    {
      "cell_type": "code",
      "metadata": {
        "id": "nU_qPaSS3TwV",
        "colab_type": "code",
        "colab": {
          "base_uri": "https://localhost:8080/",
          "height": 369
        },
        "outputId": "151954e8-65a5-4d11-c594-f204d743eb75"
      },
      "source": [
        "# check predictions by printing the output image for random test inputs.\n",
        "# images=images.detach().numpy()\n",
        "random_images = np.random.randint(0,10000,10)\n",
        "print(\"predictes are \")\n",
        "columns=5\n",
        "for i, image in enumerate(random_images):\n",
        "    plt.subplot(len(random_images) / columns + 1, columns, i + 1)\n",
        "    print(i+1,label_names[test_result[i]])\n",
        "    plt.imshow(images[i].squeeze())"
      ],
      "execution_count": 110,
      "outputs": [
        {
          "output_type": "stream",
          "text": [
            "predictes are \n",
            "1 Ankle boot\n",
            "2 Pullover\n",
            "3 Trouser\n",
            "4 Trouser\n",
            "5 Shirt\n",
            "6 Trouser\n",
            "7 Pullover\n",
            "8 Coat\n",
            "9 Sandal\n",
            "10 Sneaker\n"
          ],
          "name": "stdout"
        },
        {
          "output_type": "display_data",
          "data": {
            "image/png": "[encoded data removed]",
            "text/plain": [
              "<Figure size 432x288 with 10 Axes>"
            ]
          },
          "metadata": {
            "tags": [],
            "needs_background": "light"
          }
        }
      ]
    },
    {
      "cell_type": "markdown",
      "metadata": {
        "id": "7145RbXz7sI1",
        "colab_type": "text"
      },
      "source": [
        "#the model accuracy is about 78.11%"
      ]
    },
    {
      "cell_type": "markdown",
      "metadata": {
        "id": "KBrn6bBM8AK5",
        "colab_type": "text"
      },
      "source": [
        "#===========END================"
      ]
    },
    {
      "cell_type": "code",
      "metadata": {
        "id": "QRZxWrsT8HtA",
        "colab_type": "code",
        "colab": {}
      },
      "source": [
        ""
      ],
      "execution_count": 0,
      "outputs": []
    }
  ]
}